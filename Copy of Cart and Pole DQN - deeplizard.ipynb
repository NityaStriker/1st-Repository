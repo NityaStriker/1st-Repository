{
 "cells": [
  {
   "cell_type": "markdown",
   "metadata": {},
   "source": [
    "## Import Libraries"
   ]
  },
  {
   "cell_type": "code",
   "execution_count": 1,
   "metadata": {},
   "outputs": [],
   "source": [
    "%matplotlib inline\n",
    "\n",
    "import gym\n",
    "import math\n",
    "import random\n",
    "import time\n",
    "import numpy as np\n",
    "import matplotlib \n",
    "import matplotlib.pyplot as plt\n",
    "\n",
    "from collections import namedtuple\n",
    "from itertools import count\n",
    "from PIL import Image\n",
    "\n",
    "import torch\n",
    "import torch.nn as nn\n",
    "import torch.optim as optim\n",
    "import torch.nn.functional as F\n",
    "import torchvision.transforms as T\n"
   ]
  },
  {
   "cell_type": "markdown",
   "metadata": {},
   "source": [
    "## Set up display"
   ]
  },
  {
   "cell_type": "code",
   "execution_count": 2,
   "metadata": {},
   "outputs": [],
   "source": [
    "is_ipython = \"inline\" in matplotlib.get_backend()\n",
    "if is_ipython: from IPython import display\n",
    "    "
   ]
  },
  {
   "cell_type": "markdown",
   "metadata": {},
   "source": [
    "## Deep Q-Network"
   ]
  },
  {
   "cell_type": "code",
   "execution_count": 3,
   "metadata": {},
   "outputs": [],
   "source": [
    "class DQN (nn.Module) :\n",
    "    \n",
    "    def __init__ ( self , img_height , img_width ) :\n",
    "        super().__init__()\n",
    "        \n",
    "        k = 4       # kernel size variable\n",
    "        s = 2       # stride variable\n",
    "        \n",
    "        self.cnn1 = nn.Conv2d ( in_channels = 6 , out_channels = 4 , kernel_size = k , stride = s )\n",
    "        \n",
    "        new_h = math.ceil( (img_height - k)/s ) + 1\n",
    "        new_w = math.ceil( (img_width - k)/s ) + 1\n",
    " \n",
    "        self.fc1 = nn.Linear( in_features = 4 * new_h * new_w , out_features = 16 )\n",
    "\n",
    "        # self.fc1 = nn.Linear( in_features = 3 * img_height * img_width , out_features = 24 )\n",
    "        # self.fc2 = nn.Linear( in_features = 24 , out_features = 32 )\n",
    "        # self.fc3 = nn.Linear( in_features = 32 , out_features = 32 )\n",
    "        \n",
    "        self.out = nn.Linear( in_features = 16 , out_features = 2 )\n",
    "        \n",
    "    def forward ( self , t ) :\n",
    "        \n",
    "        t = F.relu( self.cnn1(t) )\n",
    "\n",
    "        t = t.flatten( start_dim = 1 )        \n",
    "        t = F.relu( self.fc1(t) )\n",
    "        \n",
    "        # t = F.relu( self.fc2(t) )\n",
    "        # t = F.relu( self.fc3(t) )\n",
    "        \n",
    "        t = self.out(t)\n",
    "        return t\n",
    "        "
   ]
  },
  {
   "cell_type": "markdown",
   "metadata": {},
   "source": [
    "## Experience Class"
   ]
  },
  {
   "cell_type": "code",
   "execution_count": 4,
   "metadata": {},
   "outputs": [],
   "source": [
    "Experience = namedtuple ( 'Experience' , ( 'state' , 'action' , 'next_state' , 'reward' ) )\n"
   ]
  },
  {
   "cell_type": "code",
   "execution_count": 5,
   "metadata": {},
   "outputs": [],
   "source": [
    "e = Experience(2,4,1,3) #Example\n"
   ]
  },
  {
   "cell_type": "markdown",
   "metadata": {},
   "source": [
    "## Replay Memory"
   ]
  },
  {
   "cell_type": "code",
   "execution_count": 6,
   "metadata": {},
   "outputs": [],
   "source": [
    "class ReplayMemory () :\n",
    "    \n",
    "    def __init__ (self , capacity) :\n",
    "        \n",
    "        self.capacity = capacity\n",
    "        self.memory = []\n",
    "        self.push_count = 0\n",
    "        \n",
    "    def push(self , experience) :\n",
    "        \n",
    "        if len(self.memory) < self.capacity :\n",
    "            self.memory.append (experience)\n",
    "        else :\n",
    "            self.memory[self.push_count % self.capacity] = experience\n",
    "        self.push_count += 1\n",
    "        \n",
    "    def sample (self , batch_size) :\n",
    "        return random.sample(self.memory , batch_size)\n",
    "        \n",
    "    def can_provide_sample (self , batch_size) :\n",
    "        return len(self.memory) >= batch_size\n",
    "    "
   ]
  },
  {
   "cell_type": "markdown",
   "metadata": {},
   "source": [
    "## Epsilon Greedy Strategy"
   ]
  },
  {
   "cell_type": "code",
   "execution_count": 7,
   "metadata": {},
   "outputs": [],
   "source": [
    "class EpsilonGreedyStrategy () :\n",
    "    \n",
    "    def __init__ (self , start , end , decay) : \n",
    "        \n",
    "        self.start = start\n",
    "        self.end = end\n",
    "        self.decay = decay\n",
    "        \n",
    "    def get_exploration_rate (self , current_step) :\n",
    "        \n",
    "        return self.end + ( self.start - self.end ) * math.exp( -1 * self.decay * current_step )\n",
    "    "
   ]
  },
  {
   "cell_type": "markdown",
   "metadata": {},
   "source": [
    "## Reinforcement Learning Agent"
   ]
  },
  {
   "cell_type": "code",
   "execution_count": 8,
   "metadata": {},
   "outputs": [],
   "source": [
    "class Agent () :\n",
    "    \n",
    "    def __init__ (self , strategy , num_actions , device ) :\n",
    "        \n",
    "        self.current_step = 0\n",
    "        self.strategy = strategy\n",
    "        self.num_actions = num_actions\n",
    "        self.device = device\n",
    "        \n",
    "    def select_action(self , state , policy_net) :\n",
    "        \n",
    "        rate = self.strategy.get_exploration_rate (self.current_step)\n",
    "        self.current_step += 1\n",
    "        \n",
    "        if rate > random.random() :\n",
    "            action = random.randrange (self.num_actions)\n",
    "            return torch.tensor([action]).to(self.device)\n",
    "        else :\n",
    "            with torch.no_grad() :\n",
    "                return policy_net(state).argmax(dim = 1).to(self.device)\n",
    "            "
   ]
  },
  {
   "cell_type": "markdown",
   "metadata": {},
   "source": [
    "## Environment Manager"
   ]
  },
  {
   "cell_type": "code",
   "execution_count": 9,
   "metadata": {},
   "outputs": [],
   "source": [
    "class CartPoleEnvManager () :\n",
    "    \n",
    "    def __init__ (self , device) :\n",
    "        self.device = device\n",
    "        self.env = gym.make(\"CartPole-v0\").unwrapped\n",
    "        self.env.reset()\n",
    "        self.current_screen = None\n",
    "        self.done = False\n",
    "        \n",
    "    def reset (self) :\n",
    "        self.env.reset()\n",
    "        self.current_screen = None\n",
    "        \n",
    "    def close (self) :\n",
    "        self.env.close ()\n",
    "        \n",
    "    def render (self , mode = 'human') :\n",
    "        return self.env.render(mode)\n",
    "    \n",
    "    def num_actions_available (self) :\n",
    "        return self.env.action_space.n\n",
    "    \n",
    "    def take_action (self , action) :\n",
    "        _ , reward , self.done , _ = self.env.step(action.item())\n",
    "        return torch.tensor([reward] , device = self.device)\n",
    "        \n",
    "    def just_starting (self) :\n",
    "        return self.current_screen is None\n",
    "    \n",
    "    def get_state (self) :\n",
    "        \n",
    "        if self.just_starting() or self.done :\n",
    "            self.current_screen = self.get_processed_screen()\n",
    "            black_screen = torch.zeros_like(self.current_screen)\n",
    "            return torch.cat([black_screen , black_screen] , 1)   #black_screen\n",
    "        \n",
    "        else :\n",
    "            s1 = self.current_screen\n",
    "            s2 = self.get_processed_screen()\n",
    "            self.current_screen = s2\n",
    "            return torch.cat([s1 , s2] , 1)   #s2 - s1\n",
    "        \n",
    "    def get_screen_height (self) :\n",
    "        screen = self.get_processed_screen()\n",
    "        return screen.shape[2]\n",
    "    \n",
    "    def get_screen_width (self) :\n",
    "        screen = self.get_processed_screen()\n",
    "        return screen.shape[3]\n",
    "    \n",
    "    def get_processed_screen(self) :\n",
    "        screen = self.render('rgb_array').transpose((2,0,1))\n",
    "        screen = self.crop_screen(screen)\n",
    "        return self.transform_screen_data(screen)\n",
    "    \n",
    "    def crop_screen(self , screen) : \n",
    "        screen_height = screen.shape[1]\n",
    "        \n",
    "        top = int(screen_height * 0.4)\n",
    "        bottom = int(screen_height * 0.8)\n",
    "        screen = screen[: , top:bottom , :]\n",
    "        return screen\n",
    "            \n",
    "    def transform_screen_data (self , screen) :\n",
    "        \n",
    "        screen = np.ascontiguousarray(screen , dtype = np.float32) / 255\n",
    "        screen = torch.from_numpy(screen)\n",
    "        \n",
    "        resize = T.Compose( [T.ToPILImage() , T.Resize( (40 , 90) ) , T.ToTensor()] )\n",
    "        \n",
    "        return resize(screen).unsqueeze(0).to(self.device)\n",
    "           "
   ]
  },
  {
   "cell_type": "markdown",
   "metadata": {},
   "source": [
    "## Example of non-processed screen"
   ]
  },
  {
   "cell_type": "code",
   "execution_count": 10,
   "metadata": {},
   "outputs": [
    {
     "name": "stderr",
     "output_type": "stream",
     "text": [
      "C:\\Users\\USER\\Anaconda3\\lib\\site-packages\\gym\\logger.py:30: UserWarning: WARN: Box bound precision lowered by casting to float32\n",
      "  warnings.warn(colorize('%s: %s'%('WARN', msg % args), 'yellow'))\n"
     ]
    },
    {
     "data": {
      "image/png": "[encoded data removed]",
      "text/plain": [
       "<Figure size 432x288 with 1 Axes>"
      ]
     },
     "metadata": {
      "needs_background": "light"
     },
     "output_type": "display_data"
    }
   ],
   "source": [
    "device = torch.device(\"cpu\") # (\"cuda\" if torch.cuda.is_available() else \"cpu\")\n",
    "em = CartPoleEnvManager(device)\n",
    "em.reset()\n",
    "screen = em.render('rgb_array')\n",
    "\n",
    "plt.figure()\n",
    "plt.imshow(screen)\n",
    "plt.title('Non-processed screen example')\n",
    "plt.show()\n"
   ]
  },
  {
   "cell_type": "markdown",
   "metadata": {},
   "source": [
    "## Example of processed screen"
   ]
  },
  {
   "cell_type": "code",
   "execution_count": 11,
   "metadata": {},
   "outputs": [
    {
     "data": {
      "image/png": "[encoded data removed]",
      "text/plain": [
       "<Figure size 432x288 with 1 Axes>"
      ]
     },
     "metadata": {
      "needs_background": "light"
     },
     "output_type": "display_data"
    }
   ],
   "source": [
    "screen = em.get_processed_screen()\n",
    "\n",
    "plt.figure()\n",
    "plt.imshow(screen.squeeze(0).permute(1,2,0).cpu() , interpolation = 'none')\n",
    "plt.title('Processed screen example')\n",
    "plt.show()"
   ]
  },
  {
   "cell_type": "markdown",
   "metadata": {},
   "source": [
    "## Example of starting state"
   ]
  },
  {
   "cell_type": "code",
   "execution_count": 12,
   "metadata": {},
   "outputs": [
    {
     "data": {
      "image/png": "[encoded data removed]",
      "text/plain": [
       "<Figure size 432x288 with 2 Axes>"
      ]
     },
     "metadata": {
      "needs_background": "light"
     },
     "output_type": "display_data"
    }
   ],
   "source": [
    "# screen = em.get_state()\n",
    "\n",
    "# plt.figure()\n",
    "# plt.imshow(screen.squeeze(0).permute(1,2,0) , interpolation = 'none')\n",
    "# plt.title('Starting state example')\n",
    "# plt.show()\n",
    "\n",
    "screen = em.get_state()\n",
    "\n",
    "fig=plt.figure()\n",
    "\n",
    "fig.add_subplot(1, 2, 1)\n",
    "plt.imshow(screen.squeeze(0)[0:3].permute(1,2,0) , interpolation = 'none')\n",
    "plt.title('Previous Render')\n",
    "\n",
    "fig.add_subplot(1, 2, 2)\n",
    "plt.imshow(screen.squeeze(0)[3:6].permute(1,2,0) , interpolation = 'none')\n",
    "plt.title('Current Render')\n",
    "\n",
    "plt.suptitle('Starting state example')\n",
    "plt.show()"
   ]
  },
  {
   "cell_type": "markdown",
   "metadata": {},
   "source": [
    "## Example of non-starting state"
   ]
  },
  {
   "cell_type": "code",
   "execution_count": 13,
   "metadata": {},
   "outputs": [
    {
     "data": {
      "image/png": "[encoded data removed]",
      "text/plain": [
       "<Figure size 432x288 with 2 Axes>"
      ]
     },
     "metadata": {
      "needs_background": "light"
     },
     "output_type": "display_data"
    }
   ],
   "source": [
    "# for i in range(5) :\n",
    "#     em.take_action(torch.tensor( [1] ))\n",
    "# screen = em.get_state()\n",
    "# \n",
    "# plt.figure()\n",
    "# plt.imshow(screen.squeeze(0).permute(1,2,0) , interpolation = 'none')\n",
    "# plt.title('Non-Starting state example')\n",
    "# plt.show()\n",
    "\n",
    "for i in range(5) :\n",
    "    em.take_action(torch.tensor( [1] ))\n",
    "screen = em.get_state()\n",
    "\n",
    "fig=plt.figure()\n",
    "\n",
    "fig.add_subplot(1, 2, 1)\n",
    "plt.imshow(screen.squeeze(0)[0:3].permute(1,2,0) , interpolation = 'none')\n",
    "plt.title('Previous Render')\n",
    "\n",
    "fig.add_subplot(1, 2, 2)\n",
    "plt.imshow(screen.squeeze(0)[3:6].permute(1,2,0) , interpolation = 'none')\n",
    "plt.title('Current Render')\n",
    "\n",
    "plt.suptitle('Non-Starting state example')\n",
    "plt.show()\n"
   ]
  },
  {
   "cell_type": "markdown",
   "metadata": {},
   "source": [
    "## Example of end state"
   ]
  },
  {
   "cell_type": "code",
   "execution_count": 14,
   "metadata": {},
   "outputs": [
    {
     "data": {
      "image/png": "[encoded data removed]",
      "text/plain": [
       "<Figure size 432x288 with 2 Axes>"
      ]
     },
     "metadata": {
      "needs_background": "light"
     },
     "output_type": "display_data"
    }
   ],
   "source": [
    "# em.done = True\n",
    "# screen = em.get_state()\n",
    "\n",
    "# plt.figure()\n",
    "# plt.imshow(screen.squeeze(0).permute(1,2,0) , interpolation = 'none')\n",
    "# plt.title('Ending state example')\n",
    "# plt.show()\n",
    "# em.close()\n",
    "\n",
    "em.done = True\n",
    "screen = em.get_state()\n",
    "\n",
    "fig=plt.figure()\n",
    "\n",
    "fig.add_subplot(1, 2, 1)\n",
    "plt.imshow(screen.squeeze(0)[0:3].permute(1,2,0) , interpolation = 'none')\n",
    "plt.title('Previous Render')\n",
    "\n",
    "fig.add_subplot(1, 2, 2)\n",
    "plt.imshow(screen.squeeze(0)[3:6].permute(1,2,0) , interpolation = 'none')\n",
    "plt.title('Current Render')\n",
    "\n",
    "plt.suptitle('Ending state example')\n",
    "plt.show()\n"
   ]
  },
  {
   "cell_type": "markdown",
   "metadata": {},
   "source": [
    "## Utility Functions"
   ]
  },
  {
   "cell_type": "markdown",
   "metadata": {},
   "source": [
    "### Plotting"
   ]
  },
  {
   "cell_type": "code",
   "execution_count": 15,
   "metadata": {},
   "outputs": [],
   "source": [
    "def plot (values , moving_avg_period) :\n",
    "    plt.figure(2)\n",
    "    plt.clf()\n",
    "    plt.title('Training...')\n",
    "    plt.xlabel('Episode')\n",
    "    plt.ylabel('Duration')\n",
    "    plt.plot(values)\n",
    "    \n",
    "    moving_avg = get_moving_average(moving_avg_period , values)\n",
    "    plt.plot(moving_avg)\n",
    "    plt.pause(0.001)\n",
    "    print(\" Episode : \" , len(values) , \"\\n\" , moving_avg_period , \" episode moving average : \" , moving_avg[-1] )\n",
    "    if is_ipython : display.clear_output(wait = True)\n",
    "        \n",
    "def get_moving_average(period , values) :\n",
    "    values = torch.tensor(values , dtype = torch.float)\n",
    "    \n",
    "    if len(values) >= period :\n",
    "        moving_avg = values.unfold(dimension = 0 , size = period , step = 1).mean(dim=1).flatten(start_dim = 0)\n",
    "        moving_avg = torch.cat( (torch.zeros(period-1) , moving_avg) )\n",
    "        return moving_avg.numpy()\n",
    "        \n",
    "    else :\n",
    "        moving_avg = torch.zeros(len(values))\n",
    "        return moving_avg.numpy()\n",
    "    "
   ]
  },
  {
   "cell_type": "code",
   "execution_count": 16,
   "metadata": {},
   "outputs": [
    {
     "data": {
      "image/png": "[encoded data removed]",
      "text/plain": [
       "<Figure size 432x288 with 1 Axes>"
      ]
     },
     "metadata": {
      "needs_background": "light"
     },
     "output_type": "display_data"
    },
    {
     "name": "stdout",
     "output_type": "stream",
     "text": [
      " Episode :  300 \n",
      " 100  episode moving average :  0.54109746\n"
     ]
    }
   ],
   "source": [
    "plot(np.random.rand(300) , 100)"
   ]
  },
  {
   "cell_type": "markdown",
   "metadata": {},
   "source": [
    "### Tensor Processing"
   ]
  },
  {
   "cell_type": "code",
   "execution_count": 17,
   "metadata": {},
   "outputs": [],
   "source": [
    "def extract_tensors(experiences) :\n",
    "    \n",
    "    batch = Experience( *zip( *experiences ) )\n",
    "    \n",
    "    t1 = torch.cat(batch.state)\n",
    "    t2 = torch.cat(batch.action)\n",
    "    t3 = torch.cat(batch.reward) \n",
    "    t4 = torch.cat(batch.next_state) \n",
    "    \n",
    "    return ( t1 , t2 , t3 , t4 )"
   ]
  },
  {
   "cell_type": "markdown",
   "metadata": {},
   "source": [
    "### Q-value Calculator"
   ]
  },
  {
   "cell_type": "code",
   "execution_count": 18,
   "metadata": {},
   "outputs": [],
   "source": [
    "class QValues () :\n",
    "    device = torch.device(\"cpu\") # (\"cuda\" if torch.cuda.is_available() else \"cpu\")\n",
    "\n",
    "    @staticmethod\n",
    "    def get_current(policy_net , states , actions) :\n",
    "        \n",
    "        return policy_net(states).gather(dim = 1 , index = actions.unsqueeze(-1))\n",
    "    \n",
    "    @staticmethod\n",
    "    def get_next(target_net , next_states) :\n",
    "        \n",
    "        final_state_positions = next_states.flatten(start_dim = 1).max(dim = 1)[0].eq(0).type(torch.bool)\n",
    "        non_final_state_positions = (final_state_positions == False)\n",
    "        non_final_states = next_states[non_final_state_positions]\n",
    "        \n",
    "        batch_size = next_states.shape[0]\n",
    "        values = torch.zeros(batch_size).to(QValues.device)\n",
    "        values[non_final_state_positions] = target_net( non_final_states ).max(dim = 1)[0].detach()\n",
    "        \n",
    "        return values\n",
    "            "
   ]
  },
  {
   "cell_type": "markdown",
   "metadata": {},
   "source": [
    "## Main Program"
   ]
  },
  {
   "cell_type": "code",
   "execution_count": 19,
   "metadata": {},
   "outputs": [],
   "source": [
    "batch_size = 128\n",
    "gamma = 0.999\n",
    "eps_start = 0.05\n",
    "eps_end = 0.01\n",
    "eps_decay = 0.0006\n",
    "target_update = 10\n",
    "memory_size = 50000\n",
    "lr = 0.001\n",
    "num_episodes = 1000\n",
    "\n",
    "device = torch.device(\"cpu\") # (\"cuda\" if torch.cuda.is_available() else \"cpu\")\n",
    "\n",
    "em = CartPoleEnvManager (device)\n",
    "strategy = EpsilonGreedyStrategy (eps_start , eps_end , eps_decay)\n",
    "agent = Agent (strategy , em.num_actions_available() , device)\n",
    "memory = ReplayMemory (memory_size)\n",
    "\n",
    "policy_net = DQN (em.get_screen_height() , em.get_screen_width()).to(device)\n",
    "policy_net.load_state_dict(torch.load('Cart_Pole_model.pt'))\n",
    "target_net = DQN (em.get_screen_height() , em.get_screen_width()).to(device)\n",
    "target_net.load_state_dict(policy_net.state_dict())\n",
    "target_net.eval()\n",
    "optimizer = optim.Adam(params = policy_net.parameters() , lr = lr)"
   ]
  },
  {
   "cell_type": "code",
   "execution_count": null,
   "metadata": {},
   "outputs": [
    {
     "data": {
      "image/png": "[encoded data removed]",
      "text/plain": [
       "<Figure size 432x288 with 1 Axes>"
      ]
     },
     "metadata": {
      "needs_background": "light"
     },
     "output_type": "display_data"
    },
    {
     "name": "stdout",
     "output_type": "stream",
     "text": [
      " Episode :  555 \n",
      " 100  episode moving average :  597.6\n"
     ]
    }
   ],
   "source": [
    "start_time = time.time()\n",
    "\n",
    "episode_durations = []\n",
    "for episode in range(num_episodes) :\n",
    "    em.reset()\n",
    "    state = em.get_state()\n",
    "    \n",
    "    for timestep in count() :\n",
    "        action = agent.select_action(state , policy_net) \n",
    "        reward = em.take_action(action)\n",
    "        next_state = em.get_state()\n",
    "        memory.push(Experience(state , action , next_state , reward))\n",
    "        state = next_state\n",
    "        \n",
    "        if memory.can_provide_sample(batch_size) :\n",
    "            experiences = memory.sample(batch_size)\n",
    "            states , actions , rewards , next_states = extract_tensors(experiences)\n",
    "            \n",
    "            current_q_values = QValues.get_current(policy_net , states , actions)\n",
    "            next_q_values = QValues.get_next(target_net , next_states)\n",
    "            target_q_values = ( next_q_values * gamma ) + rewards\n",
    "            \n",
    "            loss = F.mse_loss(current_q_values , target_q_values.unsqueeze(1))\n",
    "            optimizer.zero_grad()\n",
    "            loss.backward()\n",
    "            optimizer.step()\n",
    "            \n",
    "        if em.done :\n",
    "            episode_durations.append(timestep)\n",
    "            plot(episode_durations , 100)\n",
    "            break\n",
    "            \n",
    "    if episode % target_update == 0 :\n",
    "        target_net.load_state_dict(policy_net.state_dict())\n",
    "        torch.save(policy_net.state_dict() , 'Cart_Pole_model.pt')\n",
    "        \n",
    "em.close()\n",
    "\n",
    "end_time = time.time()\n",
    "Total_time = end_time - start_time\n",
    "\n",
    "print(\"Time taken for training =\" , Total_time , \" s\")\n",
    "                         "
   ]
  },
  {
   "cell_type": "markdown",
   "metadata": {},
   "source": [
    "## Display Trained Cart and Pole model"
   ]
  },
  {
   "cell_type": "code",
   "execution_count": 26,
   "metadata": {},
   "outputs": [
    {
     "name": "stdout",
     "output_type": "stream",
     "text": [
      "No. timesteps pole balanced :  524\n",
      "No. timesteps pole balanced :  1511\n",
      "No. timesteps pole balanced :  676\n",
      "No. timesteps pole balanced :  1334\n",
      "No. timesteps pole balanced :  957\n",
      "No. timesteps pole balanced :  500\n",
      "No. timesteps pole balanced :  1687\n",
      "No. timesteps pole balanced :  180\n",
      "No. timesteps pole balanced :  539\n",
      "No. timesteps pole balanced :  195\n",
      "No. timesteps pole balanced :  2257\n",
      "No. timesteps pole balanced :  403\n",
      "No. timesteps pole balanced :  887\n",
      "No. timesteps pole balanced :  1087\n",
      "No. timesteps pole balanced :  392\n",
      "No. timesteps pole balanced :  589\n",
      "No. timesteps pole balanced :  709\n",
      "No. timesteps pole balanced :  1291\n",
      "No. timesteps pole balanced :  552\n",
      "No. timesteps pole balanced :  718\n",
      "Average timestep :  849.4\n"
     ]
    }
   ],
   "source": [
    "policy_net = DQN (em.get_screen_height() , em.get_screen_width()).to(device)\n",
    "policy_net.load_state_dict(torch.load('Cart_Pole_model.pt'))\n",
    "average_timestep = 0\n",
    "total_timestep = 0\n",
    "example_set_size = 20\n",
    "\n",
    "for i in range(example_set_size) :\n",
    "\n",
    "    em.reset()\n",
    "    state = em.get_state()\n",
    "\n",
    "    for timestep in count() :\n",
    "        action = agent.select_action(state , policy_net) \n",
    "        reward = em.take_action(action)\n",
    "        next_state = em.get_state()\n",
    "        memory.push(Experience(state , action , next_state , reward))\n",
    "        state = next_state\n",
    "\n",
    "        if em.done :\n",
    "            print(\"No. timesteps pole balanced : \" , timestep)\n",
    "            total_timestep += timestep\n",
    "            break\n",
    "                \n",
    "em.close()\n",
    "\n",
    "average_timestep = total_timestep / example_set_size\n",
    "print(\"Average timestep : \" , average_timestep)\n"
   ]
  },
  {
   "cell_type": "code",
   "execution_count": 23,
   "metadata": {},
   "outputs": [],
   "source": [
    "# torch.save(policy_net.state_dict() , 'Best2_Cart_Pole_model.pt') # Save copy of model if model is really good\n"
   ]
  },
  {
   "cell_type": "markdown",
   "metadata": {},
   "source": [
    "# DONE\n"
   ]
  }
 ],
 "metadata": {
  "kernelspec": {
   "display_name": "Python 3",
   "language": "python",
   "name": "python3"
  },
  "language_info": {
   "codemirror_mode": {
    "name": "ipython",
    "version": 3
   },
   "file_extension": ".py",
   "mimetype": "text/x-python",
   "name": "python",
   "nbconvert_exporter": "python",
   "pygments_lexer": "ipython3",
   "version": "3.7.3"
  }
 },
 "nbformat": 4,
 "nbformat_minor": 4
}
